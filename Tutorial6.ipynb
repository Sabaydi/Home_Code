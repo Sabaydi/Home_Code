{
 "cells": [
  {
   "cell_type": "markdown",
   "metadata": {
    "pycharm": {
     "is_executing": false
    }
   },
   "source": [
    "# 6. CRP + Hawkes process"
   ]
  },
  {
   "cell_type": "code",
   "execution_count": 1,
   "metadata": {},
   "outputs": [
    {
     "name": "stdout",
     "output_type": "stream",
     "text": [
      "3.7.5 (default, Oct 25 2019, 10:52:18) \n",
      "[Clang 4.0.1 (tags/RELEASE_401/final)]\n"
     ]
    }
   ],
   "source": [
    "# Common imports \n",
    "from ast import literal_eval\n",
    "\n",
    "import gensim\n",
    "import numpy as np\n",
    "import pandas as pd\n",
    "import datetime\n",
    "import sys\n",
    "print(sys.version)"
   ]
  },
  {
   "cell_type": "markdown",
   "metadata": {},
   "source": [
    "## Load and preprocess the data\n",
    "\n",
    "First, we need to load the data from the csv. This file contains the documents already processed and cleaned after applying the following steps:\n",
    "\n",
    "1. Tokenization\n",
    "2. Homogeneization, which includes:\n",
    "    1. Removing capitalization.\n",
    "    2. Removing non alphanumeric tokens (e.g. punktuation signs)\n",
    "    3. Stemming/Lemmatization.\n",
    "3. Cleaning\n",
    "4. Vectorization\n",
    "\n",
    "\n",
    "We load it as a `pandas` dataframe. \n",
    "\n",
    "***Note***: The timestamp column contains the time at which the event was generated in ***seconds***.\n"
   ]
  },
  {
   "cell_type": "code",
   "execution_count": 2,
   "metadata": {
    "pycharm": {
     "name": "#%%\n"
    }
   },
   "outputs": [],
   "source": [
    "df = pd.read_csv('../data/tweets_cleaned.csv')\n",
    "df.drop_duplicates(subset=\"tweet\", inplace=True)\n",
    "\n",
    "df['tokens'] = df['tokens'].apply(literal_eval) #Transform the string into a list of tokens\n",
    "df.sort_values(by='timestamp', inplace=True)"
   ]
  },
  {
   "cell_type": "markdown",
   "metadata": {},
   "source": [
    "### Create the dictionary\n",
    "\n",
    "Up to this point, we have transformed the raw text collection in a list of documents stored in `X_tokens`, where each document is a collection \n",
    "of the words that are most relevant for semantic analysis. Now, we need to convert these data (a list of token lists) into \n",
    "a numerical representation (a list of vectors, or a matrix). To do so, we will start using the tools provided by the `gensim` library. \n",
    "\n",
    "As a first step, we create a dictionary containing all tokens in our text corpus, and assigning an integer identifier to each one of them."
   ]
  },
  {
   "cell_type": "code",
   "execution_count": 3,
   "metadata": {},
   "outputs": [],
   "source": [
    "I = 350\n",
    "X_tokens = list(df['tokens'].values)\n",
    "dictionary = gensim.corpora.Dictionary(X_tokens)\n",
    "\n",
    "dictionary.filter_extremes(no_below=15, no_above=0.5, keep_n=I)\n",
    "\n",
    "I = len(dictionary)"
   ]
  },
  {
   "cell_type": "markdown",
   "metadata": {},
   "source": [
    "### Create the dataset for the HDHP\n",
    "\n",
    "Build the dataset `X_events` as a list of events where each event is a tuple `X_events[i] = (ts, w, user_id, meta_info)` of four values:\n",
    "- `ts`: timestamp of the event. It is important to choose the base time scale (e.g., days, months) and it is also recommended to normalized them so that the timestamp of the first event is 0.\n",
    "- `w`: represents the content of the document. It should be a string containing the tokens separated by a white space.\n",
    "- `user_id`: the id of the user that generated the event. They should go from 0 to the number of users contained in the dataset\n",
    "- `meta_info`: list with extra information. It is not needed for the tutorial so it can be set to `[]`"
   ]
  },
  {
   "cell_type": "markdown",
   "metadata": {},
   "source": [
    "***Exercise 2.1:***  Implement the code to build the X_event list"
   ]
  },
  {
   "cell_type": "code",
   "execution_count": 4,
   "metadata": {},
   "outputs": [],
   "source": [
    "def event_from_row(row, min_ts, user_ids):\n",
    "    # timestamp of the event\n",
    "    # normalize\n",
    "    ts = row['timestamp'] - min_ts\n",
    "    # rescale to hours\n",
    "    ts /= 60 * 60\n",
    "    \n",
    "    # content of the document\n",
    "    w = \" \".join(token for token in row['tokens'] if token in dictionary.values())\n",
    "    \n",
    "    # user_id \n",
    "    user_id = user_ids[row['user_id']]\n",
    "    \n",
    "    # meta_info\n",
    "    meta_info = []\n",
    "    \n",
    "    return (ts, w, user_id, meta_info)"
   ]
  },
  {
   "cell_type": "code",
   "execution_count": 5,
   "metadata": {},
   "outputs": [],
   "source": [
    "X_events = list()\n",
    "\n",
    "min_ts = np.min(df['timestamp'])\n",
    "\n",
    "user_ids = {}\n",
    "for user in df['user_id']:\n",
    "    if user in user_ids:\n",
    "        continue\n",
    "    \n",
    "    new_id = len(user_ids)\n",
    "    user_ids[user] = new_id\n",
    "\n",
    "X_events = [ event_from_row(row, min_ts, user_ids) for _, row in df.iterrows()]\n",
    " "
   ]
  },
  {
   "cell_type": "markdown",
   "metadata": {},
   "source": [
    "## Hierarchical Dirichlet Hawkes Proces (HDHP)\n",
    "\n",
    "Import the Hierarchical Dirichlet Hawkes Proces module. Complete details about the code can be found in the official Github repository at https://github.com/Networks-Learning/hdhp.py. There, you can also find an example of how to use the package in the Jupyter notebooks under the directory examples."
   ]
  },
  {
   "cell_type": "markdown",
   "metadata": {},
   "source": [
    "***Exercise 1.1***: Find the piece of code  where the $\\mu_u$ parameters are updated.  If you cannot find it, explain the reason.\n",
    "\n",
    "242-248\n",
    "\n",
    "***Exercise 1.2***: Find the piece of code where the $\\alpha_l$ parameters are updated.  If you cannot find it, explain the reason.\n",
    "\n",
    "256-257 -> update_time_kernel() \n",
    "\n",
    "***Exercise 1.3***:  Find the piece of code where the $\\theta_l$ parameters are updated. If you cannot find it, explain the reason.\n",
    "\n",
    "integrated out\n",
    "\n",
    "***Exercise 1.4***: Find the piece of code where the $z_{1:n}$ table's assignment variables are updated.  If you cannot find it, explain the reason.\n",
    "\n",
    "373 - 399\n",
    "\n",
    "***Exercise 1.5***: Explore the code and explain how the final particle is chosen at the last iteration. Recall, we run the SMC with $|P|$ particles but at the end we only consider one sample per parameter to show the results.\n",
    "\n",
    "901"
   ]
  },
  {
   "cell_type": "code",
   "execution_count": 6,
   "metadata": {},
   "outputs": [],
   "source": [
    "import hdhp"
   ]
  },
  {
   "cell_type": "code",
   "execution_count": 7,
   "metadata": {},
   "outputs": [],
   "source": [
    "vocabulary = list(dictionary.values())\n",
    "doc_min_length = 2\n",
    "doc_length = 10\n",
    "words_per_pattern = 15\n",
    "\n",
    "alpha_0 = (2.5, 0.75)  # Parameters of the prior for the alpha, i.e,, Gamma distribution\n",
    "mu_0 = (2, 0.5)  # Parameters of the prior for the mu_u, i.e, Gamma distribution\n",
    "omega = 1  # Decay of the exponential  kernel, i.e., memory of the intensity.\n",
    "beta = 0.01 # Concentration parameter for the Dirichlet Process"
   ]
  },
  {
   "cell_type": "code",
   "execution_count": 8,
   "metadata": {},
   "outputs": [
    {
     "name": "stdout",
     "output_type": "stream",
     "text": [
      "Created temporary log file /Users/yannicneuhaus/Documents/MachineLearning/AdProbML/apmla_assignments/L6/tmpa7xy314r.log\n"
     ]
    }
   ],
   "source": [
    "particle, norms = hdhp.infer(X_events, alpha_0=alpha_0, mu_0=mu_0, omega=omega, num_particles=15, beta=beta, seed=512)"
   ]
  },
  {
   "cell_type": "code",
   "execution_count": 19,
   "metadata": {},
   "outputs": [
    {
     "data": {
      "image/png": "[encoded data removed]",
      "text/plain": [
       "<Figure size 1440x360 with 1 Axes>"
      ]
     },
     "execution_count": 19,
     "metadata": {},
     "output_type": "execute_result"
    },
    {
     "data": {
      "image/png": "[encoded data removed]",
      "text/plain": [
       "<Figure size 1440x360 with 1 Axes>"
      ]
     },
     "metadata": {
      "needs_background": "light"
     },
     "output_type": "display_data"
    }
   ],
   "source": [
    "hdhp_proc = particle.to_process(X_events)\n",
    "hdhp_proc.plot(paper=False, users=[0], T_min=6000, T_max=14000)"
   ]
  },
  {
   "cell_type": "markdown",
   "metadata": {},
   "source": [
    "***Exercise 2.2***: Compute the log-likelihood."
   ]
  },
  {
   "cell_type": "code",
   "execution_count": 10,
   "metadata": {},
   "outputs": [],
   "source": [
    "hdhp_proc = particle.to_process(X_events)"
   ]
  },
  {
   "cell_type": "code",
   "execution_count": 11,
   "metadata": {},
   "outputs": [],
   "source": [
    "# sample model parameters\n",
    "sampled_params = hdhp_proc.sample_pattern_params()"
   ]
  },
  {
   "cell_type": "markdown",
   "metadata": {},
   "source": [
    "***Exercise 2.3***: From the HDHP code provided extract the necesary information about the learning patterns to fill the requested table.\n"
   ]
  },
  {
   "cell_type": "code",
   "execution_count": null,
   "metadata": {},
   "outputs": [],
   "source": []
  },
  {
   "cell_type": "markdown",
   "metadata": {},
   "source": [
    "***Exercise 2.4***:  From the HDHP code provided extract the necesary information about the users to fill the requested table."
   ]
  },
  {
   "cell_type": "code",
   "execution_count": null,
   "metadata": {},
   "outputs": [],
   "source": []
  }
 ],
 "metadata": {
  "anaconda-cloud": {},
  "kernelspec": {
   "display_name": "Python 3",
   "language": "python",
   "name": "python3"
  },
  "language_info": {
   "codemirror_mode": {
    "name": "ipython",
    "version": 3
   },
   "file_extension": ".py",
   "mimetype": "text/x-python",
   "name": "python",
   "nbconvert_exporter": "python",
   "pygments_lexer": "ipython3",
   "version": "3.7.5"
  },
  "pycharm": {
   "stem_cell": {
    "cell_type": "raw",
    "metadata": {
     "collapsed": false
    },
    "source": []
   }
  }
 },
 "nbformat": 4,
 "nbformat_minor": 4
}
