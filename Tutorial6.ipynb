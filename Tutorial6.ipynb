{
 "cells": [
  {
   "cell_type": "markdown",
   "metadata": {
    "pycharm": {
     "is_executing": false
    }
   },
   "source": [
    "# 6. CRP + Hawkes process"
   ]
  },
  {
   "cell_type": "code",
   "execution_count": 1,
   "metadata": {},
   "outputs": [
    {
     "name": "stdout",
     "output_type": "stream",
     "text": [
      "3.7.5 (default, Oct 25 2019, 10:52:18) \n",
      "[Clang 4.0.1 (tags/RELEASE_401/final)]\n"
     ]
    }
   ],
   "source": [
    "# Common imports \n",
    "from ast import literal_eval\n",
    "\n",
    "import gensim\n",
    "import numpy as np\n",
    "import pandas as pd\n",
    "import datetime\n",
    "import sys\n",
    "print(sys.version)"
   ]
  },
  {
   "cell_type": "markdown",
   "metadata": {},
   "source": [
    "## Load and preprocess the data\n",
    "\n",
    "First, we need to load the data from the csv. This file contains the documents already processed and cleaned after applying the following steps:\n",
    "\n",
    "1. Tokenization\n",
    "2. Homogeneization, which includes:\n",
    "    1. Removing capitalization.\n",
    "    2. Removing non alphanumeric tokens (e.g. punktuation signs)\n",
    "    3. Stemming/Lemmatization.\n",
    "3. Cleaning\n",
    "4. Vectorization\n",
    "\n",
    "\n",
    "We load it as a `pandas` dataframe. \n",
    "\n",
    "***Note***: The timestamp column contains the time at which the event was generated in ***seconds***.\n"
   ]
  },
  {
   "cell_type": "code",
   "execution_count": 2,
   "metadata": {
    "pycharm": {
     "name": "#%%\n"
    }
   },
   "outputs": [],
   "source": [
    "df = pd.read_csv('../data/tweets_cleaned.csv')\n",
    "df.drop_duplicates(subset=\"tweet\", inplace=True)\n",
    "\n",
    "df['tokens'] = df['tokens'].apply(literal_eval) #Transform the string into a list of tokens\n",
    "df.sort_values(by='timestamp', inplace=True)"
   ]
  },
  {
   "cell_type": "markdown",
   "metadata": {},
   "source": [
    "### Create the dictionary\n",
    "\n",
    "Up to this point, we have transformed the raw text collection in a list of documents stored in `X_tokens`, where each document is a collection \n",
    "of the words that are most relevant for semantic analysis. Now, we need to convert these data (a list of token lists) into \n",
    "a numerical representation (a list of vectors, or a matrix). To do so, we will start using the tools provided by the `gensim` library. \n",
    "\n",
    "As a first step, we create a dictionary containing all tokens in our text corpus, and assigning an integer identifier to each one of them."
   ]
  },
  {
   "cell_type": "code",
   "execution_count": 3,
   "metadata": {},
   "outputs": [],
   "source": [
    "I = 350\n",
    "X_tokens = list(df['tokens'].values)\n",
    "dictionary = gensim.corpora.Dictionary(X_tokens)\n",
    "\n",
    "dictionary.filter_extremes(no_below=15, no_above=0.5, keep_n=I)\n",
    "\n",
    "I = len(dictionary)"
   ]
  },
  {
   "cell_type": "markdown",
   "metadata": {},
   "source": [
    "### Create the dataset for the HDHP\n",
    "\n",
    "Build the dataset `X_events` as a list of events where each event is a tuple `X_events[i] = (ts, w, user_id, meta_info)` of four values:\n",
    "- `ts`: timestamp of the event. It is important to choose the base time scale (e.g., days, months) and it is also recommended to normalized them so that the timestamp of the first event is 0.\n",
    "- `w`: represents the content of the document. It should be a string containing the tokens separated by a white space.\n",
    "- `user_id`: the id of the user that generated the event. They should go from 0 to the number of users contained in the dataset\n",
    "- `meta_info`: list with extra information. It is not needed for the tutorial so it can be set to `[]`"
   ]
  },
  {
   "cell_type": "markdown",
   "metadata": {},
   "source": [
    "***Exercise 2.1:***  Implement the code to build the X_event list"
   ]
  },
  {
   "cell_type": "code",
   "execution_count": 4,
   "metadata": {},
   "outputs": [],
   "source": [
    "def event_from_row(row, min_ts, user_ids):\n",
    "    # timestamp of the event\n",
    "    # normalize\n",
    "    ts = row['timestamp'] - min_ts\n",
    "    # rescale to hours\n",
    "    ts /= 60 * 60\n",
    "    \n",
    "    # content of the document\n",
    "    w = \" \".join(token for token in row['tokens'] if token in dictionary.values())\n",
    "    \n",
    "    # user_id \n",
    "    user_id = user_ids[row['user_id']]\n",
    "    \n",
    "    # meta_info\n",
    "    meta_info = []\n",
    "    \n",
    "    return (ts, w, user_id, meta_info)"
   ]
  },
  {
   "cell_type": "code",
   "execution_count": 5,
   "metadata": {},
   "outputs": [],
   "source": [
    "X_events = list()\n",
    "\n",
    "min_ts = np.min(df['timestamp'])\n",
    "\n",
    "user_ids = {}\n",
    "for user in df['user_id']:\n",
    "    if user in user_ids:\n",
    "        continue\n",
    "    \n",
    "    new_id = len(user_ids)\n",
    "    user_ids[user] = new_id\n",
    "\n",
    "X_events = [ event_from_row(row, min_ts, user_ids) for _, row in df.iterrows()]\n",
    " "
   ]
  },
  {
   "cell_type": "markdown",
   "metadata": {},
   "source": [
    "## Hierarchical Dirichlet Hawkes Proces (HDHP)\n",
    "\n",
    "Import the Hierarchical Dirichlet Hawkes Proces module. Complete details about the code can be found in the official Github repository at https://github.com/Networks-Learning/hdhp.py. There, you can also find an example of how to use the package in the Jupyter notebooks under the directory examples."
   ]
  },
  {
   "cell_type": "markdown",
   "metadata": {},
   "source": [
    "***Exercise 1.1***: Find the piece of code  where the $\\mu_u$ parameters are updated.  If you cannot find it, explain the reason.\n",
    "\n",
    "**Lines 242-248:**\n",
    "```python\n",
    "    # opened a new table\n",
    "    old_mu = self.mu_per_user[u_n]\n",
    "    tables_num = tables_before + 1\n",
    "    user_alive_time = t_n - self.first_observed_user_time[u_n]\n",
    "    new_mu = (self.mu_rate * old_mu +\n",
    "              (1 - self.mu_rate) * tables_num / user_alive_time)\n",
    "    self.mu_per_user[u_n] = new_mu\n",
    "```\n",
    "\n",
    "***Exercise 1.2***: Find the piece of code where the $\\alpha_l$ parameters are updated.  If you cannot find it, explain the reason.\n",
    "\n",
    "**Lines 256-257:**\n",
    "```python\n",
    "    if self.update_kernels:\n",
    "    self.update_time_kernel(t_n, z_n)\n",
    "```\n",
    "\n",
    "**update_time_kernel:**\n",
    "```python\n",
    "    def update_time_kernel(self, t_n, z_n):\n",
    "        \"\"\"Updates the parameter of the time kernel of the chosen pattern\n",
    "        \"\"\"\n",
    "        v_1, v_2 = self.time_kernel_prior[z_n]\n",
    "        t_last, sum_kernels, event_count, intensity, prod = self.dish_cache[z_n]\n",
    "        update_value = self.kernel(t_n, t_last)\n",
    "    \n",
    "        sum_kernels += 1\n",
    "        sum_kernels *= update_value\n",
    "        prod = sum_kernels\n",
    "        sum_integrals = event_count - sum_kernels\n",
    "        sum_integrals /= self.omega\n",
    "    \n",
    "        self.time_kernel_prior[z_n] = self.alpha_0[0] + event_count - self.dish_counters[z_n], \\\n",
    "            self.alpha_0[1] + (sum_integrals)\n",
    "    \n",
    "        prior = self.time_kernel_prior[z_n]\n",
    "        self.time_kernels[z_n] = self.sample_time_kernel(prior)\n",
    "    \n",
    "        self.dish_cache[z_n] = t_n, sum_kernels, event_count + 1, intensity, prod\n",
    "```\n",
    "\n",
    "***Exercise 1.3***:  Find the piece of code where the $\\theta_l$ parameters are updated. If you cannot find it, explain the reason.\n",
    "\n",
    "From Lecture notes 6: The $\\theta_l$ are marginalized out. $\\Rightarrow$ They are not updated in the code. \n",
    "\n",
    "***Exercise 1.4***: Find the piece of code where the $z_{1:n}$ table's assignment variables are updated.  If you cannot find it, explain the reason.\n",
    "\n",
    "**Lines 373-399:**\n",
    "```python\n",
    "    if k in tables:\n",
    "            # Assign to one of the already existing tables\n",
    "            table = k\n",
    "            dish = self.dish_on_table_per_user[u_n][table]\n",
    "            # update cache for that table\n",
    "            t_last, sum_kernels = self.user_table_cache[u_n][table]\n",
    "            update_value = self.kernel(t_n, t_last)\n",
    "            sum_kernels += 1\n",
    "            sum_kernels *= update_value\n",
    "            self.user_table_cache[u_n][table] = (t_n, sum_kernels)\n",
    "        else:\n",
    "            k = k - len(tables)\n",
    "            table = len(tables)\n",
    "            self.total_tables += 1\n",
    "            self.total_tables_per_user[u_n] += 1\n",
    "            dish = k\n",
    "            # Since this is a new table, initialize the cache accordingly\n",
    "            self.user_table_cache[u_n][table] = (t_n, 0)\n",
    "            self.dish_on_table_per_user[u_n][table] = dish\n",
    "            opened_table = True\n",
    "            if dish not in self.time_kernel_prior:\n",
    "                self.time_kernel_prior[dish] = self.alpha_0\n",
    "                dll = self.document_log_likelihood(dn_word_counts, count_dn,\n",
    "                                                   dish)\n",
    "                dish_log_likelihood.append(dll)\n",
    "                        \n",
    "    self.table_history_with_user.append((u_n, table)) \n",
    "```\n",
    "\n",
    "***Exercise 1.5***: Explore the code and explain how the final particle is chosen at the last iteration. Recall, we run the SMC with $|P|$ particles but at the end we only consider one sample per parameter to show the results.\n",
    "\n",
    "**Line 901:**\n",
    "```python\n",
    "    final_particle_id = pick_new_particles(particles, normalized, prng)[0]\n",
    "    final_particle = particles[final_particle_id]\n",
    "```\n",
    "\n",
    "**pick_new_particles:**\n",
    "```python\n",
    "    def pick_new_particles(old_particles, weights, prng):\n",
    "        N = len(old_particles)\n",
    "        index = prng.randint(N)\n",
    "        beta = 0.0\n",
    "        mw = max(weights)\n",
    "        picked_indices = []\n",
    "        for i in range(N):\n",
    "            beta += prng.rand() * 2.0 * mw\n",
    "            while beta > weights[index]:\n",
    "                beta -= weights[index]\n",
    "                index = (index + 1) % N\n",
    "            picked_indices.append(index)\n",
    "        return picked_indices\n",
    "```"
   ]
  },
  {
   "cell_type": "code",
   "execution_count": 6,
   "metadata": {},
   "outputs": [],
   "source": [
    "import hdhp"
   ]
  },
  {
   "cell_type": "code",
   "execution_count": 7,
   "metadata": {},
   "outputs": [],
   "source": [
    "vocabulary = list(dictionary.values())\n",
    "doc_min_length = 2\n",
    "doc_length = 10\n",
    "words_per_pattern = 15\n",
    "\n",
    "alpha_0 = (2.5, 0.75)  # Parameters of the prior for the alpha, i.e,, Gamma distribution\n",
    "mu_0 = (2, 0.5)  # Parameters of the prior for the mu_u, i.e, Gamma distribution\n",
    "omega = 1  # Decay of the exponential  kernel, i.e., memory of the intensity.\n",
    "beta = 0.01 # Concentration parameter for the Dirichlet Process"
   ]
  },
  {
   "cell_type": "code",
   "execution_count": 8,
   "metadata": {},
   "outputs": [
    {
     "name": "stdout",
     "output_type": "stream",
     "text": [
      "Created temporary log file /Users/yannicneuhaus/Documents/MachineLearning/AdProbML/apmla_assignments/L6/tmpst6g88mz.log\n"
     ]
    }
   ],
   "source": [
    "particle, norms = hdhp.infer(X_events, alpha_0=alpha_0, mu_0=mu_0, omega=omega, num_particles=15, beta=beta, seed=512)"
   ]
  },
  {
   "cell_type": "code",
   "execution_count": 9,
   "metadata": {},
   "outputs": [
    {
     "data": {
      "image/png": "[encoded data removed]",
      "text/plain": [
       "<Figure size 1440x360 with 1 Axes>"
      ]
     },
     "execution_count": 9,
     "metadata": {},
     "output_type": "execute_result"
    },
    {
     "data": {
      "image/png": "[encoded data removed]",
      "text/plain": [
       "<Figure size 1440x360 with 1 Axes>"
      ]
     },
     "metadata": {
      "needs_background": "light"
     },
     "output_type": "display_data"
    }
   ],
   "source": [
    "hdhp_proc = particle.to_process(X_events)\n",
    "hdhp_proc.plot(paper=False, users=[0], T_min=6000, T_max=14000)"
   ]
  },
  {
   "cell_type": "markdown",
   "metadata": {},
   "source": [
    "***Exercise 2.2***: Compute the log-likelihood."
   ]
  },
  {
   "cell_type": "code",
   "execution_count": 10,
   "metadata": {},
   "outputs": [],
   "source": [
    "hdhp_proc = particle.to_process(X_events)"
   ]
  },
  {
   "cell_type": "code",
   "execution_count": 11,
   "metadata": {},
   "outputs": [],
   "source": [
    "# sample model parameters\n",
    "sampled_params = hdhp_proc.sample_pattern_params()"
   ]
  },
  {
   "cell_type": "markdown",
   "metadata": {},
   "source": [
    "***Exercise 2.3***: From the HDHP code provided extract the necesary information about the learning patterns to fill the requested table.\n"
   ]
  },
  {
   "cell_type": "code",
   "execution_count": 54,
   "metadata": {},
   "outputs": [],
   "source": [
    "hdhp_proc = particle.to_process(X_events)\n",
    "\n",
    "# m_l\n",
    "L = hdhp_proc.num_patterns\n",
    "m_l = hdhp_proc.dish_counters\n",
    "\n",
    "# K\n",
    "K = sum(m_l.values())\n",
    "\n",
    "# pi_l\n",
    "pi_l = np.zeros(L)\n",
    "\n",
    "for l in range(L):\n",
    "    pi_l[l] = m_l[l] / K\n",
    "\n",
    "# alpha_l\n",
    "alpha_l = hdhp_proc.time_kernels\n",
    "\n",
    "# words (20 most probable)\n"
   ]
  },
  {
   "cell_type": "code",
   "execution_count": null,
   "metadata": {},
   "outputs": [],
   "source": []
  },
  {
   "cell_type": "markdown",
   "metadata": {},
   "source": [
    "***Exercise 2.4***:  From the HDHP code provided extract the necesary information about the users to fill the requested table."
   ]
  },
  {
   "cell_type": "code",
   "execution_count": null,
   "metadata": {},
   "outputs": [],
   "source": []
  }
 ],
 "metadata": {
  "anaconda-cloud": {},
  "kernelspec": {
   "display_name": "Python 3",
   "language": "python",
   "name": "python3"
  },
  "language_info": {
   "codemirror_mode": {
    "name": "ipython",
    "version": 3
   },
   "file_extension": ".py",
   "mimetype": "text/x-python",
   "name": "python",
   "nbconvert_exporter": "python",
   "pygments_lexer": "ipython3",
   "version": "3.7.5"
  },
  "pycharm": {
   "stem_cell": {
    "cell_type": "raw",
    "metadata": {
     "collapsed": false
    },
    "source": []
   }
  }
 },
 "nbformat": 4,
 "nbformat_minor": 4
}
