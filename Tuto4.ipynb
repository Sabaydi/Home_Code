{
 "cells": [
  {
   "cell_type": "markdown",
   "metadata": {
    "pycharm": {
     "is_executing": false
    }
   },
   "source": [
    "# 4. Categorical iMM + Gibbs Sampling Algorithm"
   ]
  },
  {
   "cell_type": "code",
   "execution_count": 1,
   "metadata": {},
   "outputs": [
    {
     "name": "stdout",
     "output_type": "stream",
     "text": [
      "3.7.4 (default, Aug  9 2019, 18:34:13) [MSC v.1915 64 bit (AMD64)]\n"
     ]
    }
   ],
   "source": [
    "# Common imports \n",
    "from ast import literal_eval\n",
    "\n",
    "import gensim\n",
    "import numpy as np\n",
    "import pandas as pd\n",
    "import math \n",
    "\n",
    "import sys\n",
    "print(sys.version)"
   ]
  },
  {
   "cell_type": "markdown",
   "metadata": {
    "pycharm": {}
   },
   "source": [
    "## 1. Hyperparameters\n"
   ]
  },
  {
   "cell_type": "code",
   "execution_count": 2,
   "metadata": {
    "pycharm": {}
   },
   "outputs": [],
   "source": [
    "I = 120 # Number of words in the dictionary\n",
    "N = None # Number of documents"
   ]
  },
  {
   "cell_type": "markdown",
   "metadata": {},
   "source": [
    "## 2. Load and preprocess the data\n",
    "\n",
    "First, we need to load the data from the csv. This file contains the documents already processed and cleaned after applying the following steps:\n",
    "\n",
    "1. Tokenization\n",
    "2. Homogeneization, which includes:\n",
    "    1. Removing capitalization.\n",
    "    2. Removing non alphanumeric tokens (e.g. punktuation signs)\n",
    "    3. Stemming/Lemmatization.\n",
    "3. Cleaning\n",
    "4. Vectorization\n",
    "\n",
    "\n",
    "We load it as a `pandas` dataframe.\n"
   ]
  },
  {
   "cell_type": "code",
   "execution_count": 3,
   "metadata": {
    "pycharm": {
     "name": "#%%\n"
    }
   },
   "outputs": [],
   "source": [
    "df = pd.read_csv('tweets_cleaned.csv')\n",
    "df.drop_duplicates(subset=\"tweet\", inplace=True)\n",
    "\n",
    "df['tokens'] = df['tokens'].apply(literal_eval) #Transform the string into a list of tokens\n",
    "X_tokens = list(df['tokens'].values)\n"
   ]
  },
  {
   "cell_type": "code",
   "execution_count": 4,
   "metadata": {},
   "outputs": [
    {
     "name": "stdout",
     "output_type": "stream",
     "text": [
      "Columns: tweet_id | timestamp | user_id | tweet | tweets_clean | tokens\n",
      "\n",
      "Tweet:\n",
      "OSINT people - please retweet, if possible. My friend is looking for women involved in OSINT. https://twitter.com/manisha_bot/status/1181594280336531457 …\n",
      "Tweet cleaned:\n",
      "osint people   please retweet  if possible  my friend is looking for women involved in osint\n",
      "Tweet tokens:\n",
      "['osint', 'peopl', 'retweet', 'possibl', 'friend', 'look', 'woman', 'involv', 'osint']\n"
     ]
    }
   ],
   "source": [
    "print('Columns: {}\\n'.format(' | '.join(df.columns.values)))\n",
    "\n",
    "print('Tweet:\\n{}'.format(df.loc[1, 'tweet']))\n",
    "print('Tweet cleaned:\\n{}'.format(df.loc[1, 'tweets_clean']))\n",
    "print('Tweet tokens:\\n{}'.format(X_tokens[1]))"
   ]
  },
  {
   "cell_type": "markdown",
   "metadata": {},
   "source": [
    "### Create the dictionary\n",
    "\n",
    "Up to this point, we have transformed the raw text collection in a list of documents stored in `X_tokens`, where each document is a collection \n",
    "of the words that are most relevant for semantic analysis. Now, we need to convert these data (a list of token lists) into \n",
    "a numerical representation (a list of vectors, or a matrix). To do so, we will start using the tools provided by the `gensim` library. \n",
    "\n",
    "As a first step, we create a dictionary containing all tokens in our text corpus, and assigning an integer identifier to each one of them.\n",
    "\n"
   ]
  },
  {
   "cell_type": "code",
   "execution_count": 5,
   "metadata": {
    "pycharm": {
     "name": "#%%\n"
    }
   },
   "outputs": [],
   "source": [
    "dictionary = gensim.corpora.Dictionary(X_tokens)\n",
    "\n",
    "dictionary.filter_extremes(no_below=15, no_above=0.5, keep_n=I)\n",
    "\n",
    "I = len(dictionary)"
   ]
  },
  {
   "cell_type": "markdown",
   "metadata": {},
   "source": [
    "### Create Bag of Words (BoW): Numerical version of documents\n",
    "In the second step, let us create a numerical version of our corpus using the `doc2bow` method. In general, \n",
    "`D.doc2bow(token_list)` transforms any list of tokens into a list of tuples `(token_id, n)`, one per each token in \n",
    "`token_list`, where `token_id` is the token identifier (according to dictionary `D`) and `n` is the number of occurrences \n",
    "of such token in `token_list`. \n",
    "\n",
    "*Exercise:* Apply the `doc2bow` method from gensim dictionary `D`, to all tokens in every document in `X_tokens`. \n",
    "The result must be a new list named `X_bow` where each element is a list of tuples `(token_id, number_of_occurrences)`."
   ]
  },
  {
   "cell_type": "code",
   "execution_count": 6,
   "metadata": {
    "pycharm": {
     "name": "#%%\n"
    }
   },
   "outputs": [],
   "source": [
    "X_bow = list()\n",
    "keep_tweet = list()\n",
    "for tweet in X_tokens:\n",
    "    tweet_bow = dictionary.doc2bow(tweet)\n",
    "    if len(tweet_bow) > 1:\n",
    "        X_bow.append(tweet_bow)\n",
    "        keep_tweet.append(True)\n",
    "    else:\n",
    "        keep_tweet.append(False)\n",
    "\n",
    "df_data = df[keep_tweet]\n",
    "\n",
    "N = len(df_data)\n"
   ]
  },
  {
   "cell_type": "markdown",
   "metadata": {},
   "source": [
    "Finally, we transform the BoW representation `X_bow` into a matrix, namely `X_matrix`, in which the i-th row and j-th column represents the \n",
    "number of occurrences of the j-th word of the dictionary in the i-th document. This will be the matrix used in the algorithm."
   ]
  },
  {
   "cell_type": "code",
   "execution_count": 7,
   "metadata": {
    "pycharm": {
     "name": "#%%\n"
    }
   },
   "outputs": [
    {
     "name": "stdout",
     "output_type": "stream",
     "text": [
      "N: 5568 I: 120\n"
     ]
    }
   ],
   "source": [
    "X_matrix = np.zeros([N, I])\n",
    "for i, doc_bow in enumerate(X_bow):\n",
    "    word_list = list()\n",
    "    for word in doc_bow:\n",
    "        X_matrix[i, word[0]] = word[1]\n",
    "\n",
    "        \n",
    "print('N: {} I: {}'.format(N, I))"
   ]
  },
  {
   "cell_type": "markdown",
   "metadata": {},
   "source": [
    "### Exercise 1.1\n",
    "Derive the posterior $p( \\boldsymbol{Z}, \\boldsymbol{\\Theta}| \\boldsymbol{X})$"
   ]
  },
  {
   "cell_type": "markdown",
   "metadata": {},
   "source": [
    "### Exercise 1.2\n",
    "Derive the posterior $p(\\boldsymbol{Z}| \\boldsymbol{X})$"
   ]
  },
  {
   "cell_type": "markdown",
   "metadata": {},
   "source": [
    "## Exercise 2\n",
    "Implement the three algorithms in the boxes below (or in a separated python file that can be imported)."
   ]
  },
  {
   "cell_type": "markdown",
   "metadata": {},
   "source": [
    "### Exercise 2.1: Algorithm 1 named gibbs_2 :"
   ]
  },
  {
   "cell_type": "code",
   "execution_count": 8,
   "metadata": {},
   "outputs": [],
   "source": [
    "\n",
    "def log_likelihood_zn_theta(X_matrix, Thetas, K):\n",
    "    \n",
    "    \"\"\"\n",
    "    Computes the log-likelihood logP(x_n | z_n = k, Thetas[k]) for\n",
    "    every document x_n and every cluster k.\n",
    "    \n",
    "    Arguments:\n",
    "        X_matrix: np.ndarray, (N x I), X_matrix[i, j] represents the \n",
    "            number of occurences of the j-th word of the dictionary in \n",
    "            the i-th document.\n",
    "        Thetas: np.ndarray, (K x I), likelihood parameters for all cluster\n",
    "    \n",
    "    Returns:\n",
    "        log_likelihoods: np.ndarray, (N x K), log_likelihoods[i, j] represents\n",
    "            logP(x_i | z_i = j, Thetas[j])\n",
    "    \"\"\"\n",
    "    N = X_matrix.shape[0]\n",
    "    \n",
    "    Thetas = np.array(Thetas).reshape(K,I)\n",
    "    \n",
    "    log_likelihoods = np.ones((N, K))\n",
    "    \n",
    "    \n",
    "    for n, document in enumerate(X_matrix):\n",
    "        \n",
    "        c_n = np.repeat(document[np.newaxis, :], K, axis=0) # K x I\n",
    "        log_likelihoods[n, :] = (c_n * np.log(Thetas)).sum(axis=1) # K\n",
    "    \n",
    "    return log_likelihoods #N x K\n"
   ]
  },
  {
   "cell_type": "code",
   "execution_count": 9,
   "metadata": {},
   "outputs": [],
   "source": [
    "def log_marginal_likelihood_zn_theta(Xn, gamma):\n",
    "    \n",
    "    \"\"\"\n",
    "    Computes the marginal log-likelihood logP(x_n, Theta | z_n = k) for\n",
    "    one document x_n and every cluster k over all possible values of Theta.\n",
    "    \n",
    "    Arguments:\n",
    "        Xn: np.ndarray, (1 x I), Xn[j] represents the \n",
    "            number of occurences of the j-th word of the dictionary in \n",
    "            the document.\n",
    "        gamma: gamma hyperparameter\n",
    "    \n",
    "    Returns:\n",
    "        integral log_likelihoods: np.ndarray, (1 x K), log_marginal_likelihood[j] represents\n",
    "            logP(x_n | z_n = j)\n",
    "    \"\"\"\n",
    "\n",
    "    gamma = gamma + Xn\n",
    "    \n",
    "    # compute sum_m sum_i log(gamma_m + i)\n",
    "    summands_i = np.copy(Xn)\n",
    "    mask = (Xn > 0)\n",
    "    summands_i -= (summands_i > 0)\n",
    "    log_s_m = mask*np.log(gamma + summands_i) # N x I\n",
    "    \n",
    "    while np.any(summands_i > 0):\n",
    "        summands_i -= np.ones(Xn.shape)\n",
    "        mask[summands_i < 0] = 0\n",
    "        summands_i[summands_i < 0] = 0\n",
    "            \n",
    "        log_s_m += mask * np.log(gamma + summands_i) # N x I\n",
    "    log_s_m = np.sum(log_s_m, axis=1) # N\n",
    "              \n",
    "    # compute sum_j log(j + sum_m gamma_m)\n",
    "    summands_j = np.copy(Xn).sum(axis=1) # N\n",
    "    mask = (summands_j > 0)\n",
    "    summands_j -= (summands_j > 0)\n",
    "    gamma_sum = gamma.sum(axis=1) # N\n",
    "    log_w_n = mask*np.log(summands_j + gamma_sum)\n",
    "    \n",
    "    while np.any(summands_j > 0):\n",
    "        summands_j -= np.ones(1)#(summands_j > 0)\n",
    "        mask[summands_j < 0] = 0\n",
    "        summands_j[summands_j < 0] = 0\n",
    "            \n",
    "        log_w_n += mask * np.log(summands_j + gamma_sum)\n",
    "        \n",
    "    # compute log_marginal-likelihoods\n",
    "    log_marginal_likelihood = log_s_m - log_w_n\n",
    "        \n",
    "        \n",
    "    return log_marginal_likelihood\n",
    "        \n",
    "        \n",
    "    "
   ]
  },
  {
   "cell_type": "code",
   "execution_count": 10,
   "metadata": {},
   "outputs": [],
   "source": [
    "def log_posterior_z_minus_n_for_known_clusters(Z, alpha, K, zn):\n",
    "    \"\"\"\n",
    "    Computes the log-posterior logP(z_n = k | Z_minus_n) for all\n",
    "    n and all k.\n",
    "    \n",
    "    Arguments:\n",
    "        Z: np.ndarray (N), contains the cluster assignment of\n",
    "            the documents\n",
    "        alpha: np.ndarray (K), parameter for the prior distribution\n",
    "            of Pi\n",
    "        cluster_counts: np.ndarray (K), cluster_counts[i] is the number of\n",
    "            documents in the i-th cluster\n",
    "    Returns:\n",
    "        log_posteriors: np.ndarray, (N x K), log_posteriors[i,j] represents\n",
    "            logP(z_i = j | Z_minus_i)\n",
    "    \"\"\"\n",
    "    \n",
    "    N = Z.shape[0]\n",
    "    \n",
    "    cluster_counts = np.zeros(K, dtype=np.int)\n",
    "    cluster, counts = np.unique(Z, return_counts=True)  \n",
    "    cluster_counts[cluster] = counts  \n",
    "    cluster_counts[zn] -=1\n",
    "    \n",
    "    log_posterior_z_minus_n = np.log(cluster_counts) - np.log( N - 1 + (alpha.sum()) )\n",
    "        \n",
    "    return  log_posterior_z_minus_n   #(1 x K)\n",
    "        "
   ]
  },
  {
   "cell_type": "code",
   "execution_count": 11,
   "metadata": {},
   "outputs": [],
   "source": [
    "def log_posterior_z_minus_n_for_new_cluster(X_matrix, Z, alpha):\n",
    "    \"\"\"\n",
    "        Computes the logposterior P(z_n = k | Z_minus_n) for Xn and all k\n",
    "        Arguments:\n",
    "        Z: np.ndarray (N), contains the cluster assignment of the documents\n",
    "        alpha: np.ndarray (K), parameter for the prior distribution of Pi\n",
    "        cluster_counts: np.ndarray (K), cluster_counts[i] is the number of\n",
    "        documents in the i-th cluster\n",
    "    Returns:\n",
    "        posteriors: np.ndarray, (1 x 1), posteriors[i] represents\n",
    "            P(z_n = i | Z_minus_i)\n",
    "    \"\"\"\n",
    "    R = X_matrix.shape[0]   \n",
    "    log_posterior_z_minus_n =  np.log(alpha.sum()) - np.log( N - 1 + (alpha.sum()) ) \n",
    "    log_posterior_z_minus_n = np.array([log_posterior_z_minus_n])\n",
    "    \n",
    "    log_posterior_z_minus_n = np.repeat(log_posterior_z_minus_n[np.newaxis, :], R, axis=0) # (R x 1)   \n",
    "    \n",
    "    return  log_posterior_z_minus_n #(R x 1)"
   ]
  },
  {
   "cell_type": "code",
   "execution_count": 12,
   "metadata": {},
   "outputs": [],
   "source": [
    "def sample_theta_k(X_matrix, Z, gamma, k):\n",
    "    \"\"\"\n",
    "    Samples cluster parameters Theta_k from the posterior P(Theta_k | X, Z).\n",
    "    \n",
    "    Arguments:\n",
    "        X_matrix: np.ndarray (N x I), X_matrix[i, j] represents the \n",
    "            number of occurences of the j-th word of the dictionary in \n",
    "            the i-th document.\n",
    "        Z: np.ndarray (N), contains the cluster assignment of\n",
    "            the documents\n",
    "        gamma: np.ndarray (I), parameter for the prior distribution\n",
    "            of Theta\n",
    "        k: integer, cluster id\n",
    "    \n",
    "    Returns:\n",
    "        Theta_k: np.ndarray (I), contains the parameters of the k-th\n",
    "            cluster\n",
    "    \"\"\"\n",
    "    # compute the number of occurances for each word in cluster k\n",
    "    word_cluster_counts = X_matrix[np.where(Z == k), :].sum(axis=1)[0]\n",
    "    gamma_new = gamma + word_cluster_counts\n",
    "\n",
    "    return np.random.dirichlet(gamma_new, size=1)[0] #(1 x I)"
   ]
  },
  {
   "cell_type": "code",
   "execution_count": 13,
   "metadata": {},
   "outputs": [],
   "source": [
    "def sample_theta_new(X_matrix, n, gamma):\n",
    "    \"\"\"\n",
    "    Samples cluster parameters Theta_k_new from the posterior P(Theta_k_new | Xn).\n",
    "    \n",
    "    Arguments:\n",
    "        X_matrix: np.ndarray (N x I), X_matrix[i, j] represents the \n",
    "            number of occurences of the j-th word of the dictionary in \n",
    "            the i-th document.\n",
    "        gamma: np.ndarray (I), parameter for the prior distribution\n",
    "            of Theta\n",
    "    \n",
    "    Returns:\n",
    "        Theta_k_new: np.ndarray (I), contains the parameters of the new\n",
    "            cluster\n",
    "    \"\"\"\n",
    "    # compute the number of occurances for each word in cluster k_new (i.e number of words in doc Xn)  \n",
    "    word_cluster_counts = X_matrix[n]\n",
    "    gamma_new = gamma + word_cluster_counts\n",
    "\n",
    "    return np.random.dirichlet(gamma_new, size=1)[0]  #(1 x I)"
   ]
  },
  {
   "cell_type": "code",
   "execution_count": 14,
   "metadata": {},
   "outputs": [],
   "source": [
    "def log_sum_exp(summands, axis=0):\n",
    "    \n",
    "    \"\"\"\n",
    "    Computes log(sum_i exp(summands[i])), using the log-sum-exp trick.\n",
    "    \n",
    "    Arguments:\n",
    "        summands: np.ndarray, contains the summands\n",
    "        axis: integer, the axis to sum over\n",
    "        \n",
    "    Returns:\n",
    "        log_sum_exp: np.ndarray, the results of the summation\n",
    "    \"\"\"\n",
    "    \n",
    "    max_summand = np.max(summands)\n",
    "    log_sum_exp = max_summand + np.log(np.exp(summands - max_summand).sum(axis=axis))\n",
    "    \n",
    "    return log_sum_exp"
   ]
  },
  {
   "cell_type": "code",
   "execution_count": 15,
   "metadata": {},
   "outputs": [],
   "source": [
    "def exp_normalize(log_dist):\n",
    "    \"\"\"\n",
    "    Computes exp(log_dist) / sum_i(log_dist[i]) using the exp-normalize trick.\n",
    "    \n",
    "    Arguments:\n",
    "        log_dist: np.ndarray, (N x K), log-distribution that will be normalized\n",
    "        \n",
    "    Returns:\n",
    "        norm_dist: np.ndarray, (log_dist.shape), the normalized distribution\n",
    "    \"\"\"\n",
    "    K = log_dist.shape[1]\n",
    "    \n",
    "    max_val = np.repeat(np.max(log_dist, axis=1)[:, np.newaxis], K, axis=1) # (N x K)\n",
    "    \n",
    "    norm_dist = np.exp(log_dist - max_val) # (N x K)\n",
    "\n",
    "    sum_exp = norm_dist.sum(axis=1) # (N)\n",
    "    norm_dist /= np.repeat(sum_exp[:, np.newaxis], K, axis=1)\n",
    "\n",
    "    return norm_dist"
   ]
  },
  {
   "cell_type": "code",
   "execution_count": 16,
   "metadata": {},
   "outputs": [],
   "source": [
    "def posterior_zn_2(X_matrix, n, Thetas, K, gamma, alpha, Z):\n",
    "    \"\"\"\n",
    "    Computes the posterior P(z_n = k| x_n, Z_minus_n, Theta) for all\n",
    "    n and all k.\n",
    "    \n",
    "    Arguments:\n",
    "        log_lik_zn_theta: np.ndarray, (N x K), log_lik_zn_theta[i, j] represents\n",
    "            logP(x_i | z_i = j, Theta)\n",
    "        log_post_z_minus_n: np.ndarray, (N x K), log_post_z_minus_n[i, j] represents\n",
    "            logP(z_i = j | Z_minus_j)\n",
    "        \n",
    "    Returns:\n",
    "        posteriors: np.ndarray, (N x K), posteriors[i, j] represents\n",
    "            P(z_i = j | x_i, Z_minus_i, Theta)\n",
    "    \"\"\"\n",
    "    \n",
    "    dist1 =  log_likelihood_zn_theta(X_matrix[n][np.newaxis, :], Thetas, K) + log_posterior_z_minus_n_for_known_clusters(Z, alpha, K, Z[n])                                \n",
    "    \n",
    "    dist2 = log_marginal_likelihood_zn_theta(X_matrix[n][np.newaxis, :], gamma) + log_posterior_z_minus_n_for_new_cluster(X_matrix[n][np.newaxis, :], Z, alpha)    \n",
    "    \n",
    "    posterior_zn = np.zeros((1,K+1))\n",
    "    posterior_zn[:,:-1] = dist1\n",
    "    posterior_zn[0][K] = dist2\n",
    "    \n",
    "\n",
    "    return exp_normalize(posterior_zn)"
   ]
  },
  {
   "cell_type": "code",
   "execution_count": 17,
   "metadata": {},
   "outputs": [],
   "source": [
    "def sample_z_2(post_zn_2):\n",
    "    \"\"\"\n",
    "    Samples the cluster assignment z_n of x_n from the posterior \n",
    "    P(z_n | x_n, Z_-n, Theta).\n",
    "\n",
    "    Arguments:\n",
    "        post_zn: np.ndarray, (K), post_zn[i] represents\n",
    "            p(z_n = i | x_n, Pi, Theta)\n",
    "    Returns:\n",
    "        z_n: integer, sampled cluster assignment of x_n\n",
    "    \"\"\"\n",
    "    L = len(post_zn_2)\n",
    "    return np.random.choice(np.arange(L), p=post_zn_2)"
   ]
  },
  {
   "cell_type": "code",
   "execution_count": 18,
   "metadata": {},
   "outputs": [],
   "source": [
    "def log_likelihood(log_lik_zn_theta, Z):\n",
    "\n",
    "    \n",
    "    summands = log_lik_zn_theta # (N x K)\n",
    "    summands = summands[np.arange(N), Z] # (N)\n",
    "    return summands.sum()"
   ]
  },
  {
   "cell_type": "code",
   "execution_count": 19,
   "metadata": {},
   "outputs": [],
   "source": [
    "def prepare_plot(ax, h):\n",
    "    \"\"\"\n",
    "    Prepares the animated log-likelihood plot\n",
    "    \"\"\"\n",
    "    ax[h].set_xlabel(\"Steps\", fontweight='bold', fontsize=15)\n",
    "    ax[h].set_ylabel(\"Log-likelihood\", fontweight='bold', fontsize=15)\n",
    "    line, = ax[h].plot([0], [0])\n",
    "    \n",
    "    lik = []\n",
    "    \n",
    "    return lik, line"
   ]
  },
  {
   "cell_type": "code",
   "execution_count": 20,
   "metadata": {},
   "outputs": [],
   "source": [
    "\n",
    "def gibbs_2(X_matrix, alpha_value, fig, ax, h):\n",
    "    \n",
    "    # prepare likelihood plot animation\n",
    "    lik_2, line = prepare_plot(ax, h)\n",
    "        \n",
    "\n",
    "    def animate(i):\n",
    "        line.axes.set_xlim(0, i)\n",
    "        line.axes.set_ylim(0.9 * np.min(lik_2), 1.1 * np.max(lik_2))\n",
    "        line.axes.invert_yaxis()\n",
    "        line.set_data(np.arange(i), lik_2[:i])         \n",
    "            \n",
    "    np.random.seed(1234)\n",
    "    \n",
    "\n",
    "    N, I = X_matrix.shape   \n",
    "    \n",
    "    gamma = np.ones(I)\n",
    "    # sample Theta from prior\n",
    "    Thetas = np.array( np.random.dirichlet(gamma, size=1)[0] )\n",
    "    K = 1\n",
    "    # sample Z from prior\n",
    "    Z = np.repeat(0,N) # 1 x N\n",
    "    # create alpha \n",
    "    alpha = (np.ones(K) / K) * alpha_value\n",
    "    \n",
    "    step = 1\n",
    "    while(True):\n",
    "        \n",
    "        for n in range(N):\n",
    "            posterior_zn = posterior_zn_2(X_matrix, n, Thetas, K, gamma, alpha, Z)\n",
    "            Z[n] = sample_z_2(posterior_zn[0])\n",
    "        \n",
    "            if Z[n] == K : \n",
    "                theta = sample_theta_new(X_matrix, n, gamma)\n",
    "                Thetas = np.vstack((Thetas, theta))\n",
    "                K+=1\n",
    "                alpha = (np.ones(K) / K) * alpha_value\n",
    "    \n",
    "        for k in range(K):\n",
    "            Thetas[k] = sample_theta_k(X_matrix, Z, gamma, k)\n",
    "        step +=1\n",
    "        log_lik_zn_theta = log_likelihood_zn_theta(X_matrix, Thetas, K)       \n",
    "        lik_2.append(log_likelihood(log_lik_zn_theta, Z))\n",
    "        if (step) % 9 == 0:\n",
    "            aux_list = lik_2[len(lik_2)-10 : len(lik_2)-1]\n",
    "            if len(aux_list) == aux_list.count(aux_list[len(aux_list)-1]) : break \n",
    "            \n",
    "        \n",
    "        \n",
    "        # plot likelihood\n",
    "        animate(step-1)\n",
    "        clear_output(wait=True)\n",
    "        display(fig)\n",
    "        plt.show()\n",
    "        print(f\"Iteration: {(step)} \\t Log-likelihood: {lik_2[step-2]}\")\n",
    "    \n",
    "    # plot likelihood\n",
    "    animate(step-2)\n",
    "    clear_output(wait=True)\n",
    "    display(fig)\n",
    "    print(f\"Iteration: {(step)} \\t Log-likelihood: {lik_2[step-2]}\")\n",
    "\n",
    "    return Z, lik_2, Thetas\n"
   ]
  },
  {
   "cell_type": "markdown",
   "metadata": {},
   "source": [
    "### Exercise 2.2 For the First algorithm (gibbs_2):\n",
    "Some useful packages:\n",
    "- matplotlib https://matplotlib.org/\n",
    "- seaborn https://github.com/mwaskom/seaborn\n",
    "- wordcloud https://github.com/amueller/word_cloud\n",
    "- probvis https://github.com/psanch21/prob-visualize"
   ]
  },
  {
   "cell_type": "markdown",
   "metadata": {},
   "source": [
    "Here we run the Algorithm until convergence and plot the evolution of the likelihood per iteration (question a):"
   ]
  },
  {
   "cell_type": "code",
   "execution_count": 21,
   "metadata": {},
   "outputs": [
    {
     "data": {
      "image/png": "[encoded data removed]",
      "text/plain": [
       "<Figure size 720x504 with 2 Axes>"
      ]
     },
     "metadata": {},
     "output_type": "display_data"
    },
    {
     "name": "stdout",
     "output_type": "stream",
     "text": [
      "Iteration: 9 \t Log-likelihood: -89265.61502488866\n"
     ]
    }
   ],
   "source": [
    "%matplotlib notebook\n",
    "\n",
    "from wordcloud import WordCloud\n",
    "import math\n",
    "import matplotlib.pyplot as plt\n",
    "import matplotlib.animation\n",
    "from IPython.display import display, clear_output\n",
    "\n",
    "\n",
    "fig, ax = plt.subplots(2, 1, figsize=(10,7))\n",
    "\n",
    "Thetas_result = []\n",
    "K_plus = []\n",
    "alpha_values = [ 0.1 , 10]\n",
    "h = 0\n",
    "for alpha_value in alpha_values:\n",
    "    Z, lik_2, Thetas = gibbs_2(X_matrix, alpha_value, fig, ax, h)\n",
    "    h+=1\n",
    "    \n",
    "    cluster_counts = np.zeros(Thetas.shape [0], dtype=np.int)\n",
    "    cluster, counts = np.unique(Z, return_counts=True)  \n",
    "    cluster_counts[cluster] = counts \n",
    "    indices = np.where(cluster_counts == 0)[0]\n",
    "    X = np.ma.masked_equal(cluster_counts,0)\n",
    "    X = X.compressed()\n",
    "    Thetas = np.delete(Thetas, indices, 0)\n",
    "    \n",
    "    K_plus.append(X.size)\n",
    "    Thetas_result.append(Thetas)  \n"
   ]
  },
  {
   "cell_type": "markdown",
   "metadata": {},
   "source": [
    "Here we plot the 10 most representative words from each topic from a sample (question b)"
   ]
  },
  {
   "cell_type": "code",
   "execution_count": 41,
   "metadata": {},
   "outputs": [],
   "source": [
    "%matplotlib inline\n",
    "tweet_array = np.array(df_data['tweet'].values)\n",
    "for thetas in Thetas_result :\n",
    "    P = 4\n",
    "    ToPlot = [thetas[n:n+P] for n in range(0, thetas.shape[0], P)]\n",
    "    print('This is a collection of Plots for the alpha value :', alpha_values[Thetas_result.index(thetas)])\n",
    "    print()\n",
    "    for e in ToPlot:\n",
    "        \n",
    "        fig, ax = plt.subplots( 1, 4, figsize=(100,100))\n",
    "        for k in range(e.shape[0]):\n",
    "            \n",
    "            theta_k = e[k]\n",
    "            # get indices of 10 most representative words\n",
    "            ind = np.argsort(-theta_k)[:10]\n",
    "    \n",
    "            words = [dictionary[i] for i in ind]     \n",
    "            frequencies = {word:freq for word, freq in zip(words, theta_k[ind])}\n",
    "        \n",
    "\n",
    "            # generate wordcloud\n",
    "            wordcloud = WordCloud().generate_from_frequencies(frequencies)\n",
    "        \n",
    "           \n",
    "            ax[k].imshow(wordcloud, interpolation='bilinear')\n",
    "            ax[k].axis(\"off\")\n",
    "        \n",
    "\n",
    "    plt.show()"
   ]
  },
  {
   "cell_type": "markdown",
   "metadata": {},
   "source": [
    "Here we plot the alpha vs. number of clusters for the Algorithm : "
   ]
  },
  {
   "cell_type": "code",
   "execution_count": 23,
   "metadata": {},
   "outputs": [
    {
     "data": {
      "image/png": "[encoded data removed]",
      "text/plain": [
       "<Figure size 432x288 with 1 Axes>"
      ]
     },
     "metadata": {
      "needs_background": "light"
     },
     "output_type": "display_data"
    }
   ],
   "source": [
    "plt.figure()\n",
    "plt.scatter(alpha_values, K_plus)\n",
    "plt.xlabel(\"alpha\")\n",
    "plt.ylabel(\"number of clusters\")\n",
    "plt.show()"
   ]
  },
  {
   "cell_type": "markdown",
   "metadata": {},
   "source": [
    "### Exercise 2.1: Algorithm 2"
   ]
  },
  {
   "cell_type": "code",
   "execution_count": 24,
   "metadata": {},
   "outputs": [],
   "source": [
    "def log_likelihood_zn_Xmn_Zmn(X_matrix, Xn, n,  Z, gamma, K):\n",
    "    \"\"\"\n",
    "    Computes the log-likelihood logP(x_n | z_n = k, X_-n, Z_-n) for Xn.\n",
    "    \n",
    "    Arguments:\n",
    "        X_matrix: np.ndarray, (N x I), X_matrix[i, j] represents the \n",
    "            number of occurences of the j-th word of the dictionary in \n",
    "            the i-th document.\n",
    "        Xn : the current element (1,N)\n",
    "        n : indice of the current element\n",
    "        Z: np.ndarray (N), contains the cluster assignments\n",
    "        gamma: np.ndarray (I), parameter for the prior distribution\n",
    "            of Theta\n",
    "        K: integer, number of clusters \n",
    "        \n",
    "    Returns:\n",
    "        log_likelihoods: np.ndarray, (1 x K), log_likelihoods[j]\n",
    "            represents logP(x_n| z_i = j, X_-n, Z_-n) \n",
    "    \"\"\"\n",
    "    N, I = X_matrix.shape\n",
    "    log_likelihoods = np.zeros((1, K))\n",
    "    \n",
    "    \n",
    "    for k in range(K):\n",
    "        \n",
    "        # compute gamma_dash\n",
    "        X_k = X_matrix[(Z == k), :]\n",
    "        gamma_dash = X_k.sum(axis=0) # 1 x I \n",
    "        #if Z[n] == k : gamma_dash[k] -= 1\n",
    "        gamma_dash = gamma_dash + gamma\n",
    "\n",
    "        \n",
    "        # compute sum_m sum_i log(gamma_m + i)\n",
    "        summands_i = np.copy(Xn)\n",
    "        mask = (Xn > 0)\n",
    "        summands_i -= (summands_i > 0)\n",
    "        log_s_m = mask*np.log(gamma_dash + summands_i    +   1e-7) # 1 x I\n",
    "    \n",
    "        while np.any(summands_i > 0):\n",
    "            summands_i -= np.ones(Xn.shape)\n",
    "            mask[summands_i < 0] = 0\n",
    "            summands_i[summands_i < 0] = 0\n",
    "            \n",
    "            log_s_m += mask * np.log(gamma_dash + summands_i) # 1 x I\n",
    "        log_s_m = np.sum(log_s_m, axis=1) # 1\n",
    "        \n",
    "        \n",
    "        # compute sum_j log(j + sum_m gamma_m)\n",
    "        summands_j = np.copy(Xn).sum(axis=1) # 1\n",
    "        \n",
    "        mask = (summands_j > 0)\n",
    "        summands_j -= (summands_j > 0)\n",
    "        gamma_sum = gamma_dash.sum(axis=0) # 1\n",
    "        log_w_n = mask*np.log(summands_j + gamma_sum    +  1e-7)\n",
    "        \n",
    "        while np.any(summands_j > 0):\n",
    "            summands_j -= np.ones(1)#(summands_j > 0)\n",
    "            mask[summands_j < 0] = 0\n",
    "            summands_j[summands_j < 0] = 0\n",
    "            \n",
    "            log_w_n += mask * np.log(summands_j + gamma_sum)\n",
    "            \n",
    "        # compute log-likelihoods\n",
    "        log_likelihoods[:,k] = log_s_m - log_w_n\n",
    "        \n",
    "    return log_likelihoods"
   ]
  },
  {
   "cell_type": "code",
   "execution_count": 25,
   "metadata": {},
   "outputs": [],
   "source": [
    "def posterior_zn_3(X_matrix, n, K, gamma, alpha, Z):\n",
    "    \"\"\"\n",
    "    Computes the posterior P(z_n = k| x_n, Z_minus_n, Theta) for all\n",
    "    n and all k.\n",
    "    \n",
    "    Arguments:\n",
    "        log_lik_zn_theta: np.ndarray, (N x K), log_lik_zn_theta[i, j] represents\n",
    "            logP(x_i | z_i = j, Theta)\n",
    "        log_post_z_minus_n: np.ndarray, (N x K), log_post_z_minus_n[i, j] represents\n",
    "            logP(z_i = j | Z_minus_j)\n",
    "        \n",
    "    Returns:\n",
    "        posteriors: np.ndarray, (N x K), posteriors[i, j] represents\n",
    "            P(z_i = j | x_i, Z_minus_i, Theta)\n",
    "    \"\"\"\n",
    "    \n",
    "    \n",
    "    dist1 = log_likelihood_zn_Xmn_Zmn(X_matrix, X_matrix[n][np.newaxis, :], n, Z, gamma, K) + log_posterior_z_minus_n_for_known_clusters(Z, alpha, K, Z[n])\n",
    "\n",
    "    \n",
    "    dist2 =  log_marginal_likelihood_zn_theta(X_matrix[n][np.newaxis, :], gamma) +  log_posterior_z_minus_n_for_new_cluster(X_matrix[n][np.newaxis, :], Z, alpha)                                  \n",
    "    \n",
    "    \n",
    "    \n",
    "    posterior_zn = np.zeros((1,K+1))\n",
    "    posterior_zn[:,:-1] = dist1\n",
    "    posterior_zn[0][K] = dist2\n",
    "    \n",
    "    \n",
    "\n",
    "    return exp_normalize(posterior_zn)"
   ]
  },
  {
   "cell_type": "code",
   "execution_count": 26,
   "metadata": {},
   "outputs": [],
   "source": [
    "def sample_z_3(post_zn_3):\n",
    "    \"\"\"\n",
    "    Samples the cluster assignment z_n of x_n from the posterior \n",
    "    P(z_n | x_n, Z_-n, Theta).\n",
    "\n",
    "    Arguments:\n",
    "        post_zn: np.ndarray, (K), post_zn[i] represents\n",
    "            p(z_n = i | x_n, Pi, Theta)\n",
    "    Returns:\n",
    "        z_n: integer, sampled cluster assignment of x_n\n",
    "    \"\"\"\n",
    "    L = len(post_zn_3)\n",
    "    return np.random.choice(np.arange(L), p=post_zn_3)"
   ]
  },
  {
   "cell_type": "code",
   "execution_count": 44,
   "metadata": {},
   "outputs": [],
   "source": [
    "def gibbs_3(X_matrix, alpha_value, fig, ax, h):\n",
    "    \n",
    "    \n",
    "    # prepare likelihood plot animation\n",
    "    lik_3, line = prepare_plot(ax, h)\n",
    "    \n",
    "    \n",
    "    def animate(i):\n",
    "        line.axes.set_xlim(0, i)\n",
    "        line.axes.set_ylim(0.9 * np.min(lik_3), 1.1 * np.max(lik_3))\n",
    "        line.axes.invert_yaxis()\n",
    "        line.set_data(np.arange(i), lik_3[:i])\n",
    "            \n",
    "            \n",
    "    np.random.seed(1234)\n",
    "    \n",
    "\n",
    "    N, I = X_matrix.shape   \n",
    "    \n",
    "    gamma = np.ones(I)\n",
    "    # sample Theta from prior\n",
    "    Thetas = np.array( np.random.dirichlet(gamma, size=1)[0] )\n",
    "    K = 1\n",
    "    # sample Z from prior\n",
    "    Z = np.repeat(0,N) # 1 x N\n",
    "    # create alpha \n",
    "    alpha = (np.ones(K) / K) * alpha_value\n",
    "    \n",
    "    step = 1\n",
    "    while(True):\n",
    "        \n",
    "        for n in range(N):\n",
    "            posterior_zn = posterior_zn_3(X_matrix, n, K, gamma, alpha, Z)\n",
    "            Z[n] = sample_z_3(posterior_zn[0])\n",
    "        \n",
    "            if Z[n] == K : \n",
    "                K+=1\n",
    "                alpha = (np.ones(K) / K) * alpha_value\n",
    "                 \n",
    "    \n",
    "        Thetas = np.zeros((K, I))       \n",
    "        for k in range(K):\n",
    "            # sample likelihood parameters Theta_k\n",
    "            Thetas[k] = sample_theta_k(X_matrix, Z, gamma, k) # I\n",
    "            \n",
    "        log_lik_zn_theta = log_likelihood_zn_theta(X_matrix, Thetas, K)\n",
    "        log_lik = log_likelihood(log_lik_zn_theta, Z)\n",
    "        lik_3.append(log_lik)\n",
    "        \n",
    "        step +=1\n",
    "        print(step)\n",
    "        if (step) % 9 == 0:\n",
    "            aux_list = lik_3[len(lik_3)-10 : len(lik_3)-1]\n",
    "            if len(aux_list) == aux_list.count(aux_list[len(aux_list)-1]) : break \n",
    "        \n",
    "\n",
    "        animate(step-1)\n",
    "        clear_output(wait=True)\n",
    "        display(fig)\n",
    "        plt.show()\n",
    "        print(f\"Iteration: {(step)} \\t Log-likelihood: {lik_3[step-2]}\")\n",
    "    \n",
    "    # plot likelihood\n",
    "    animate(step-2)\n",
    "    clear_output(wait=True)\n",
    "    display(fig)\n",
    "    plt.show()\n",
    "    print(f\"Iteration: {(step)} \\t Log-likelihood: {lik_3[step-2]}\")\n",
    "\n",
    "\n",
    "    return Z, lik_3, Thetas\n"
   ]
  },
  {
   "cell_type": "markdown",
   "metadata": {},
   "source": [
    "### Exercise 2.2 For the Second algorithm (gibbs_3):\n",
    "Some useful packages:\n",
    "- matplotlib https://matplotlib.org/\n",
    "- seaborn https://github.com/mwaskom/seaborn\n",
    "- wordcloud https://github.com/amueller/word_cloud\n",
    "- probvis https://github.com/psanch21/prob-visualize"
   ]
  },
  {
   "cell_type": "markdown",
   "metadata": {},
   "source": [
    "Here we run the Algorithm until convergence and plot the evolution of the likelihood per iteration (question a):"
   ]
  },
  {
   "cell_type": "code",
   "execution_count": null,
   "metadata": {},
   "outputs": [
    {
     "data": {
      "image/png": "[encoded data removed]",
      "text/plain": [
       "<Figure size 720x504 with 2 Axes>"
      ]
     },
     "metadata": {},
     "output_type": "display_data"
    },
    {
     "name": "stdout",
     "output_type": "stream",
     "text": [
      "Iteration: 5 \t Log-likelihood: -99545.97424047289\n"
     ]
    }
   ],
   "source": [
    "%matplotlib inline\n",
    "\n",
    "from wordcloud import WordCloud\n",
    "import math\n",
    "import matplotlib.pyplot as plt\n",
    "import matplotlib.animation\n",
    "from IPython.display import display, clear_output\n",
    "\n",
    "\n",
    "fig, ax = plt.subplots(2, 1, figsize=(10,7))\n",
    "\n",
    "Thetas_result = []\n",
    "K_plus = []\n",
    "alpha_values = [ 0.1 , 10 ]\n",
    "h = 0\n",
    "for alpha_value in alpha_values:\n",
    "    Z, lik_3, Thetas = gibbs_3(X_matrix, alpha_value, fig, ax, h)\n",
    "    h+=1\n",
    "    \n",
    "    cluster_counts = np.zeros(Thetas.shape [0], dtype=np.int)\n",
    "    cluster, counts = np.unique(Z, return_counts=True)  \n",
    "    cluster_counts[cluster] = counts \n",
    "    indices = np.where(cluster_counts == 0)[0]\n",
    "    X = np.ma.masked_equal(cluster_counts,0)\n",
    "    X = X.compressed()\n",
    "    Thetas = np.delete(Thetas, indices, 0)\n",
    "    \n",
    "    K_plus.append(X.size)\n",
    "    Thetas_result.append(Thetas) \n"
   ]
  },
  {
   "cell_type": "markdown",
   "metadata": {},
   "source": [
    "Here we plot the 10 most representative words from each topic from a sample (question b)"
   ]
  },
  {
   "cell_type": "code",
   "execution_count": null,
   "metadata": {},
   "outputs": [],
   "source": [
    "%matplotlib inline\n",
    "tweet_array = np.array(df_data['tweet'].values)\n",
    "for thetas in Thetas_result :\n",
    "    P = 4\n",
    "    ToPlot = [thetas[n:n+P] for n in range(0, thetas.shape[0], P)]\n",
    "    print('This is a collection of Plots for the alpha value :', alpha_values[Thetas_result.index(thetas)])\n",
    "    print()\n",
    "    for e in ToPlot:\n",
    "        \n",
    "        fig, ax = plt.subplots( 1, 4, figsize=(100,100))\n",
    "        for k in range(e.shape[0]):\n",
    "            \n",
    "            theta_k = e[k]\n",
    "            # get indices of 10 most representative words\n",
    "            ind = np.argsort(-theta_k)[:10]\n",
    "    \n",
    "            words = [dictionary[i] for i in ind]     \n",
    "            frequencies = {word:freq for word, freq in zip(words, theta_k[ind])}\n",
    "        \n",
    "\n",
    "            # generate wordcloud\n",
    "            wordcloud = WordCloud().generate_from_frequencies(frequencies)\n",
    "        \n",
    "           \n",
    "            ax[k].imshow(wordcloud, interpolation='bilinear')\n",
    "            ax[k].axis(\"off\")\n",
    "        \n",
    "\n",
    "    plt.show()\n"
   ]
  },
  {
   "cell_type": "markdown",
   "metadata": {},
   "source": [
    "Here we plot the alpha vs. number of clusters for the Algorithm (question c):"
   ]
  },
  {
   "cell_type": "code",
   "execution_count": null,
   "metadata": {},
   "outputs": [],
   "source": [
    "plt.figure()\n",
    "plt.scatter(alpha_values, K_plus)\n",
    "plt.xlabel(\"alpha\")\n",
    "plt.ylabel(\"number of clusters\")\n",
    "plt.show()"
   ]
  }
 ],
 "metadata": {
  "anaconda-cloud": {},
  "kernelspec": {
   "display_name": "Python 3",
   "language": "python",
   "name": "python3"
  },
  "language_info": {
   "codemirror_mode": {
    "name": "ipython",
    "version": 3
   },
   "file_extension": ".py",
   "mimetype": "text/x-python",
   "name": "python",
   "nbconvert_exporter": "python",
   "pygments_lexer": "ipython3",
   "version": "3.7.4"
  },
  "pycharm": {
   "stem_cell": {
    "cell_type": "raw",
    "metadata": {
     "collapsed": false
    },
    "source": []
   }
  }
 },
 "nbformat": 4,
 "nbformat_minor": 2
}
